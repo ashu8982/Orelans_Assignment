{
 "cells": [
  {
   "cell_type": "code",
   "execution_count": 1,
   "id": "d7439bf3",
   "metadata": {},
   "outputs": [
    {
     "name": "stdout",
     "output_type": "stream",
     "text": [
      "Encrypted Data: {'name': b'gAAAAABlY2XYm18jtAEn2e4O7jiuaRddGCUVDKG-bTXKybXZ-kznk4O41HmxTEmxL_RYP3S86MHHkfytfDf-Y-JV1sP5elxUOA==', 'age': b'gAAAAABlY2XYoOGbV8a2oVSfJcyAIhxevY9A8qXs1O2ztjzUUXpUCe7FEVXKhlAcC-77Jh7-TxFcIRcxZ9XWu-lrHDuuUxWYKQ==', 'gender': b'gAAAAABlY2XYPUoDV80pykqh1L1cMvIP0Dq_31Y_Gwyk_UMyE7-xUOIVqtVUljgyjjMu0rrW62QaE_PRvPtbYsKGPQUSa4s66g==', 'phone': b'gAAAAABlY2XY98ex52qlArfRnPNfF__qMTy3uAdzkt6W4071XXoopjpN8oAFSAd4pF_bTfds92tPYLbnlcLG6-YpiLFrWbndvw==', 'diagnosis': b'gAAAAABlY2XYgeGbrBqVUKdP3KhQCputgvj0hodzy5yXfs1vrGjbGpE0scZh8UMD8cdFXO1ENYTo07XTwtjZGZgwy6wcAKcYlsWvGguSMbzBVO377uZubt0='}\n",
      "Decrypted Data: {'name': 'John Doe', 'age': 30, 'gender': 'Male', 'phone': '555-1234', 'diagnosis': 'Sample Diagnosis'}\n"
     ]
    }
   ],
   "source": [
    "from cryptography.fernet import Fernet\n",
    "\n",
    "class PatientDataEncryptionModule:\n",
    "    def __init__(self, key):\n",
    "        self.key = key\n",
    "        self.cipher_suite = Fernet(self.key)\n",
    "\n",
    "    def encrypt_data(self, plaintext):\n",
    "        encrypted_data = self.cipher_suite.encrypt(plaintext.encode('utf-8'))\n",
    "        return encrypted_data\n",
    "\n",
    "    def decrypt_data(self, ciphertext):\n",
    "        decrypted_data = self.cipher_suite.decrypt(ciphertext).decode('utf-8')\n",
    "        return decrypted_data\n",
    "\n",
    "# Example Usage\n",
    "if __name__ == \"__main__\":\n",
    "    # Generate a key (keep this key secure and don't share it)\n",
    "    key = Fernet.generate_key()\n",
    "\n",
    "    # Initialize the encryption module with the key\n",
    "    encryption_module = PatientDataEncryptionModule(key)\n",
    "\n",
    "    # Sample patient data\n",
    "    patient_data = {\n",
    "        'name': 'John Doe',\n",
    "        'age': 30,\n",
    "        'gender': 'Male',\n",
    "        'phone': '555-1234',\n",
    "        'diagnosis': 'Sample Diagnosis'\n",
    "    }\n",
    "\n",
    "    # Encrypt sensitive fields\n",
    "    encrypted_name = encryption_module.encrypt_data(patient_data['name'])\n",
    "    encrypted_age = encryption_module.encrypt_data(str(patient_data['age']))\n",
    "    encrypted_gender = encryption_module.encrypt_data(patient_data['gender'])\n",
    "    encrypted_phone = encryption_module.encrypt_data(patient_data['phone'])\n",
    "    encrypted_diagnosis = encryption_module.encrypt_data(patient_data['diagnosis'])\n",
    "\n",
    "    # Store the encrypted data in the database\n",
    "    encrypted_patient_data = {\n",
    "        'name': encrypted_name,\n",
    "        'age': encrypted_age,\n",
    "        'gender': encrypted_gender,\n",
    "        'phone': encrypted_phone,\n",
    "        'diagnosis': encrypted_diagnosis\n",
    "    }\n",
    "\n",
    "    # Print the encrypted data\n",
    "    print(\"Encrypted Data:\", encrypted_patient_data)\n",
    "\n",
    "    # Decrypt the data when needed\n",
    "    decrypted_name = encryption_module.decrypt_data(encrypted_name)\n",
    "    decrypted_age = encryption_module.decrypt_data(encrypted_age)\n",
    "    decrypted_gender = encryption_module.decrypt_data(encrypted_gender)\n",
    "    decrypted_phone = encryption_module.decrypt_data(encrypted_phone)\n",
    "    decrypted_diagnosis = encryption_module.decrypt_data(encrypted_diagnosis)\n",
    "\n",
    "    # Display the decrypted data\n",
    "    decrypted_patient_data = {\n",
    "        'name': decrypted_name,\n",
    "        'age': int(decrypted_age),\n",
    "        'gender': decrypted_gender,\n",
    "        'phone': decrypted_phone,\n",
    "        'diagnosis': decrypted_diagnosis\n",
    "    }\n",
    "\n",
    "    print(\"Decrypted Data:\", decrypted_patient_data)\n"
   ]
  }
 ],
 "metadata": {
  "kernelspec": {
   "display_name": "Python 3 (ipykernel)",
   "language": "python",
   "name": "python3"
  },
  "language_info": {
   "codemirror_mode": {
    "name": "ipython",
    "version": 3
   },
   "file_extension": ".py",
   "mimetype": "text/x-python",
   "name": "python",
   "nbconvert_exporter": "python",
   "pygments_lexer": "ipython3",
   "version": "3.11.4"
  }
 },
 "nbformat": 4,
 "nbformat_minor": 5
}
